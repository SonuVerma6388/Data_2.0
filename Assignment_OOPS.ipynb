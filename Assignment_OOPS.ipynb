{
 "cells": [
  {
   "cell_type": "markdown",
   "id": "d389699a",
   "metadata": {},
   "source": [
    "# OOPS Task"
   ]
  },
  {
   "cell_type": "markdown",
   "id": "c82d36c2",
   "metadata": {},
   "source": [
    "## Q1. Create a vehicle class with an init method having instance variables as                name_of_vehicle ,  max_speed  and average_of_vehicle.\n"
   ]
  },
  {
   "cell_type": "code",
   "execution_count": 1,
   "id": "de82bdfb",
   "metadata": {},
   "outputs": [],
   "source": [
    "class  vehicle :\n",
    "    def __init__(self, name_of_vehicle, max_speed, average_of_vehicle):\n",
    "        self.name_of_vehicle = name_of_vehicle\n",
    "        self.max_speed = max_speed\n",
    "        self.average_of_vehicle = average_of_vehicle\n",
    "    def reutrn_statement(self):\n",
    "        return  self.name_of_vehicle,self.max_speed, self.average_of_vehicle\n",
    "        "
   ]
  },
  {
   "cell_type": "code",
   "execution_count": 2,
   "id": "6e10634d",
   "metadata": {},
   "outputs": [],
   "source": [
    "class_obj = vehicle('Range_Rover',300, 12)"
   ]
  },
  {
   "cell_type": "code",
   "execution_count": 3,
   "id": "ad0fd8c0",
   "metadata": {},
   "outputs": [
    {
     "data": {
      "text/plain": [
       "('Range_Rover', 300, 12)"
      ]
     },
     "execution_count": 3,
     "metadata": {},
     "output_type": "execute_result"
    }
   ],
   "source": [
    "class_obj.reutrn_statement()"
   ]
  },
  {
   "cell_type": "markdown",
   "id": "4150f734",
   "metadata": {},
   "source": [
    "## Q2. Create a child class car from the vehicle class created in Que 1, which will inherit the vehicle class.Create a method named seating_capacity which takes capacity as an argument and returns the name of the vehicle and its seating capacity.\n",
    "\n"
   ]
  },
  {
   "cell_type": "code",
   "execution_count": 18,
   "id": "72653ced",
   "metadata": {},
   "outputs": [],
   "source": [
    "class child_car(vehicle):\n",
    "    \n",
    "    def __init__(self, name_of_vehicle, max_speed, average_of_vehicle):\n",
    "        vehicle.__init__(self, name_of_vehicle, max_speed, average_of_vehicle)\n",
    "        \n",
    "    \n",
    "    def seating_capacity(self, capacity):\n",
    "        self.capacity = capacity\n",
    "        return f\"The seating capacity of a {self.name_of_vehicle} is {capacity} passengers\"\n",
    "    "
   ]
  },
  {
   "cell_type": "code",
   "execution_count": 20,
   "id": "bcef257d",
   "metadata": {},
   "outputs": [],
   "source": [
    "obj = child_car(\"Range Rover\",300,12)"
   ]
  },
  {
   "cell_type": "code",
   "execution_count": 21,
   "id": "54ccd5ad",
   "metadata": {},
   "outputs": [
    {
     "name": "stdout",
     "output_type": "stream",
     "text": [
      "The seating capacity of a Range Rover is 6 passengers\n"
     ]
    }
   ],
   "source": [
    "print(obj.seating_capacity(6))"
   ]
  },
  {
   "cell_type": "markdown",
   "id": "0487939b",
   "metadata": {},
   "source": [
    "## Q3. What is multiple inheritance? Write a python code to demonstrate multiple inheritance.\n"
   ]
  },
  {
   "cell_type": "markdown",
   "id": "27508faf",
   "metadata": {},
   "source": [
    "### Multiple Inheritance =>\n",
    "\n",
    "Multiple Inheritance means \"When a class is derived from more than one base class it is called multiple Inheritance. The derived class inherits all the features of the base case.\" "
   ]
  },
  {
   "cell_type": "code",
   "execution_count": 7,
   "id": "c1601801",
   "metadata": {},
   "outputs": [],
   "source": [
    "class test1:\n",
    "    def first(self):\n",
    "        return \"This is the first class\"\n",
    "       \n",
    "class test2(test1):\n",
    "    def second(self):\n",
    "        return \"This is the second class\"\n",
    "    \n",
    "    \n",
    "class test3(test2):\n",
    "      pass"
   ]
  },
  {
   "cell_type": "code",
   "execution_count": 8,
   "id": "af532270",
   "metadata": {},
   "outputs": [],
   "source": [
    "obj = test3()\n"
   ]
  },
  {
   "cell_type": "code",
   "execution_count": 11,
   "id": "8edc2297",
   "metadata": {},
   "outputs": [
    {
     "data": {
      "text/plain": [
       "'This is the first class'"
      ]
     },
     "execution_count": 11,
     "metadata": {},
     "output_type": "execute_result"
    }
   ],
   "source": [
    "obj.first()"
   ]
  },
  {
   "cell_type": "code",
   "execution_count": 12,
   "id": "b71d12e1",
   "metadata": {},
   "outputs": [
    {
     "data": {
      "text/plain": [
       "'This is the second class'"
      ]
     },
     "execution_count": 12,
     "metadata": {},
     "output_type": "execute_result"
    }
   ],
   "source": [
    "obj.second()"
   ]
  },
  {
   "cell_type": "markdown",
   "id": "98975bfb",
   "metadata": {},
   "source": [
    "# Q4. What are getter and setter in python? Create a class and create a getter and a setter method in this class.\n"
   ]
  },
  {
   "cell_type": "markdown",
   "id": "0f56b6bc",
   "metadata": {},
   "source": [
    "### Getter \n",
    "Getters are the methods that are used in OOPS to access a class's private attributes.\n",
    "In other word , a method that allows you to access an attribute in a given class.\n",
    "\n",
    "### Setter \n",
    "The setter is a method that is used to set the property's value.\n",
    "IN other word, a method that allows you to set or mutate the value of an attribute in a class.\n",
    "\n",
    "Both the getter and setter are mainly used to ensure the data Encapsulation in OOPS."
   ]
  },
  {
   "cell_type": "code",
   "execution_count": 13,
   "id": "1290d7ac",
   "metadata": {},
   "outputs": [],
   "source": [
    "class test1:   \n",
    "    def __init__(self, age = 0):   \n",
    "         self._age = age   \n",
    "      # using the getter method   \n",
    "    def get_age(self):   \n",
    "        return self._age   \n",
    "      # using the setter method   \n",
    "    def set_age(self, a):   \n",
    "        self._age = a   "
   ]
  },
  {
   "cell_type": "code",
   "execution_count": 14,
   "id": "7ee77e12",
   "metadata": {},
   "outputs": [],
   "source": [
    "obj_of_test = test1()"
   ]
  },
  {
   "cell_type": "code",
   "execution_count": 18,
   "id": "5194c327",
   "metadata": {},
   "outputs": [],
   "source": [
    "#setter method\n",
    "obj_of_test.set_age(20)"
   ]
  },
  {
   "cell_type": "code",
   "execution_count": 20,
   "id": "8b2b6283",
   "metadata": {},
   "outputs": [
    {
     "data": {
      "text/plain": [
       "20"
      ]
     },
     "execution_count": 20,
     "metadata": {},
     "output_type": "execute_result"
    }
   ],
   "source": [
    "#getter method\n",
    "obj_of_test.get_age()"
   ]
  },
  {
   "cell_type": "markdown",
   "id": "164d78e4",
   "metadata": {},
   "source": [
    "# Q5.What is method overriding in python? Write a python code to demonstrate method overriding."
   ]
  },
  {
   "cell_type": "markdown",
   "id": "a0a5a72e",
   "metadata": {},
   "source": [
    "### Method Overriding\n",
    "\n",
    "Method Overriding is the concept of OOPS in which , When a child class method overrides the parent class method of the same name, parameters and return type, it is known as method overriding."
   ]
  },
  {
   "cell_type": "code",
   "execution_count": 21,
   "id": "d4cce9f5",
   "metadata": {},
   "outputs": [],
   "source": [
    "class Parent():\n",
    "      \n",
    "    def __init__(self):\n",
    "        self.value = \"Inside Parent\"\n",
    "          \n",
    "    def show(self):\n",
    "        print(self.value)\n",
    "          "
   ]
  },
  {
   "cell_type": "code",
   "execution_count": 22,
   "id": "365ba6e4",
   "metadata": {},
   "outputs": [],
   "source": [
    "class Child(Parent):\n",
    "      \n",
    "    def __init__(self):\n",
    "        self.value = \"Inside Child\"\n",
    "          \n",
    "    def show(self):\n",
    "        print(self.value)"
   ]
  },
  {
   "cell_type": "code",
   "execution_count": 23,
   "id": "a1d31b2f",
   "metadata": {},
   "outputs": [
    {
     "name": "stdout",
     "output_type": "stream",
     "text": [
      "Inside Parent\n",
      "Inside Child\n"
     ]
    }
   ],
   "source": [
    "obj1 = Parent()\n",
    "obj2 = Child()\n",
    "  \n",
    "obj1.show()\n",
    "obj2.show()"
   ]
  },
  {
   "cell_type": "code",
   "execution_count": null,
   "id": "9a7dfa0c",
   "metadata": {},
   "outputs": [],
   "source": []
  }
 ],
 "metadata": {
  "kernelspec": {
   "display_name": "Python 3 (ipykernel)",
   "language": "python",
   "name": "python3"
  },
  "language_info": {
   "codemirror_mode": {
    "name": "ipython",
    "version": 3
   },
   "file_extension": ".py",
   "mimetype": "text/x-python",
   "name": "python",
   "nbconvert_exporter": "python",
   "pygments_lexer": "ipython3",
   "version": "3.10.9"
  }
 },
 "nbformat": 4,
 "nbformat_minor": 5
}
