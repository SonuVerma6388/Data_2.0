{
 "cells": [
  {
   "cell_type": "markdown",
   "id": "bd408264",
   "metadata": {},
   "source": [
    "# Assignment - 1"
   ]
  },
  {
   "cell_type": "markdown",
   "id": "daa70aee",
   "metadata": {},
   "source": [
    "### Q1. Create one variable containing following type of data.\n",
    "        1) string\n",
    "        2) list\n",
    "        3) float\n",
    "        4) tuple"
   ]
  },
  {
   "cell_type": "code",
   "execution_count": 1,
   "id": "d8d9e53a",
   "metadata": {},
   "outputs": [
    {
     "name": "stdout",
     "output_type": "stream",
     "text": [
      "['sonu', [1, 2, 3, 4], 2.0, ('apple', 'mango', 'banana')]\n"
     ]
    }
   ],
   "source": [
    "# to make this type of variable be can make through list, set, tuple, & Dictionary.\n",
    "\n",
    "var = [\"sonu\", [1,2,3,4], 2.0, (\"apple\", \"mango\", \"banana\")]\n",
    "print(var)"
   ]
  },
  {
   "cell_type": "markdown",
   "id": "793f44a9",
   "metadata": {},
   "source": [
    "### Q2. Given are some following variables containing data:\n",
    "    1) var1 = ‘ ‘\n",
    "    2) var2 = ‘[ DS , ML , Python]’\n",
    "    3) var3 = [ ‘DS’ , ’ML’ , ‘Python’ ]\n",
    "    4) var4 = 1.\n",
    "### What will be the data type of the above given variable."
   ]
  },
  {
   "cell_type": "code",
   "execution_count": 2,
   "id": "fafcb3b2",
   "metadata": {},
   "outputs": [
    {
     "data": {
      "text/plain": [
       "str"
      ]
     },
     "execution_count": 2,
     "metadata": {},
     "output_type": "execute_result"
    }
   ],
   "source": [
    "# to find the data type of variable be can use type() function\n",
    "\n",
    "var1 = ''\n",
    "type(var1)"
   ]
  },
  {
   "cell_type": "code",
   "execution_count": 3,
   "id": "84b24a01",
   "metadata": {},
   "outputs": [
    {
     "data": {
      "text/plain": [
       "str"
      ]
     },
     "execution_count": 3,
     "metadata": {},
     "output_type": "execute_result"
    }
   ],
   "source": [
    "var2 = '[ DS , ML , Python]'\n",
    "type(var2)"
   ]
  },
  {
   "cell_type": "code",
   "execution_count": 4,
   "id": "0bd7196a",
   "metadata": {},
   "outputs": [
    {
     "data": {
      "text/plain": [
       "list"
      ]
     },
     "execution_count": 4,
     "metadata": {},
     "output_type": "execute_result"
    }
   ],
   "source": [
    "var3 = [ 'DS' , \"ML\" , \"Python\" ]\n",
    "type(var3)"
   ]
  },
  {
   "cell_type": "code",
   "execution_count": 5,
   "id": "8b399bf8",
   "metadata": {},
   "outputs": [
    {
     "data": {
      "text/plain": [
       "float"
      ]
     },
     "execution_count": 5,
     "metadata": {},
     "output_type": "execute_result"
    }
   ],
   "source": [
    "var4 = 1.\n",
    "type(var4)"
   ]
  },
  {
   "cell_type": "markdown",
   "id": "557ca186",
   "metadata": {},
   "source": [
    "### Q3.  Explain the use of the following operators using an example:\n",
    "        1)/\n",
    "        2)%\n",
    "        3)//\n",
    "        4)**"
   ]
  },
  {
   "cell_type": "code",
   "execution_count": 6,
   "id": "ad4df0f0",
   "metadata": {},
   "outputs": [
    {
     "name": "stdout",
     "output_type": "stream",
     "text": [
      "2.0\n"
     ]
    }
   ],
   "source": [
    "# '/' this operator Divides the number on its left by the number on its right and returns a floating point value. .\n",
    "# for example -\n",
    "\n",
    "x = 10\n",
    "y = 5\n",
    "print(x/y)"
   ]
  },
  {
   "cell_type": "code",
   "execution_count": 7,
   "id": "2de27c3c",
   "metadata": {},
   "outputs": [
    {
     "name": "stdout",
     "output_type": "stream",
     "text": [
      "0\n"
     ]
    }
   ],
   "source": [
    "# '%' this operator is use to find Modulus in python\n",
    "# for example -\n",
    "x =10\n",
    "y = 5\n",
    "print(x%y)"
   ]
  },
  {
   "cell_type": "code",
   "execution_count": 8,
   "id": "b4bf08e1",
   "metadata": {},
   "outputs": [
    {
     "name": "stdout",
     "output_type": "stream",
     "text": [
      "4\n"
     ]
    }
   ],
   "source": [
    "# '//' This operator will divide the first argument by the second and round the result down to the nearest whole number,\n",
    "# making it equivalent to the math.\n",
    "# for example -\n",
    "\n",
    "x = 13\n",
    "y = 3\n",
    "print(x//y)"
   ]
  },
  {
   "cell_type": "code",
   "execution_count": 9,
   "id": "ba618a10",
   "metadata": {},
   "outputs": [
    {
     "name": "stdout",
     "output_type": "stream",
     "text": [
      "8\n"
     ]
    }
   ],
   "source": [
    "# '**' this is one of the Arithmetic Operator which is use for to calculate Exponentiation \n",
    "# for example - \n",
    "x = 2 \n",
    "y = 3\n",
    "\n",
    "c = x**y\n",
    "print(c)"
   ]
  },
  {
   "cell_type": "markdown",
   "id": "1ee68757",
   "metadata": {},
   "source": [
    "### Q4. Create a list of length 10 of your choice containing multiple types of data. Using for loop print the element and its data type."
   ]
  },
  {
   "cell_type": "code",
   "execution_count": 10,
   "id": "8cf52e2f",
   "metadata": {},
   "outputs": [
    {
     "name": "stdout",
     "output_type": "stream",
     "text": [
      "sonu = <class 'str'>\n",
      "63 = <class 'int'>\n",
      "2.5 = <class 'float'>\n",
      "('a', 'b', 'c') = <class 'tuple'>\n"
     ]
    }
   ],
   "source": [
    "list = [\"sonu\", 63, 2.5, (\"a\",\"b\", 'c')]\n",
    "for i in list:\n",
    "    print(i, \"=\", type(i))"
   ]
  },
  {
   "cell_type": "markdown",
   "id": "66bdc354",
   "metadata": {},
   "source": [
    "### Q5. Using a while loop, verify if the number A is purely divisible by number B and if so then how many times it can be divisible."
   ]
  },
  {
   "cell_type": "code",
   "execution_count": null,
   "id": "fb72deb2",
   "metadata": {},
   "outputs": [],
   "source": [
    "# I can't understand the question ."
   ]
  },
  {
   "cell_type": "markdown",
   "id": "85c3a9c3",
   "metadata": {},
   "source": [
    "### Q6. Create a list containing 25 int type data. Using for loop and if-else condition print if the element is divisible by 3 or not."
   ]
  },
  {
   "cell_type": "code",
   "execution_count": 11,
   "id": "d8d114c9",
   "metadata": {},
   "outputs": [
    {
     "name": "stdout",
     "output_type": "stream",
     "text": [
      "[0, 1, 2, 3, 4, 5, 6, 7, 8, 9, 10, 11, 12, 13, 14, 15, 16, 17, 18, 19, 20, 21, 22, 23, 24]\n"
     ]
    }
   ],
   "source": [
    "list = []\n",
    "for i in range(0,25):\n",
    "    list.append(i)\n",
    "print(list)\n",
    "        "
   ]
  },
  {
   "cell_type": "code",
   "execution_count": 12,
   "id": "5799bddb",
   "metadata": {},
   "outputs": [
    {
     "name": "stdout",
     "output_type": "stream",
     "text": [
      "0 is divisible by 3.\n",
      "1 is  not divisible by 3.\n",
      "2 is  not divisible by 3.\n",
      "3 is divisible by 3.\n",
      "4 is  not divisible by 3.\n",
      "5 is  not divisible by 3.\n",
      "6 is divisible by 3.\n",
      "7 is  not divisible by 3.\n",
      "8 is  not divisible by 3.\n",
      "9 is divisible by 3.\n",
      "10 is  not divisible by 3.\n",
      "11 is  not divisible by 3.\n",
      "12 is divisible by 3.\n",
      "13 is  not divisible by 3.\n",
      "14 is  not divisible by 3.\n",
      "15 is divisible by 3.\n",
      "16 is  not divisible by 3.\n",
      "17 is  not divisible by 3.\n",
      "18 is divisible by 3.\n",
      "19 is  not divisible by 3.\n",
      "20 is  not divisible by 3.\n",
      "21 is divisible by 3.\n",
      "22 is  not divisible by 3.\n",
      "23 is  not divisible by 3.\n",
      "24 is divisible by 3.\n"
     ]
    }
   ],
   "source": [
    " for i in list:\n",
    "        if i%3 == 0:\n",
    "            print(i,\"is divisible by 3.\")\n",
    "        else :\n",
    "            print(i,\"is  not divisible by 3.\")"
   ]
  },
  {
   "cell_type": "markdown",
   "id": "44459ba1",
   "metadata": {},
   "source": [
    "### Q7. What do you understand about mutable and immutable data types? Give examples for both showing this property."
   ]
  },
  {
   "cell_type": "code",
   "execution_count": 13,
   "id": "8a3b502e",
   "metadata": {},
   "outputs": [
    {
     "name": "stdout",
     "output_type": "stream",
     "text": [
      "['red_pen', 'blue_pen', 'green_pen']\n",
      "['pink_pen', 'blue_pen', 'orange_pen']\n"
     ]
    }
   ],
   "source": [
    "# Mutable \n",
    "\n",
    "# A mutable object can be changed after it is created.\n",
    "# Mutable Objects are of type list, dict, or set. Custom classes are generally mutable. \n",
    "\n",
    "# for examples =>\n",
    "\n",
    "pen = [\"red_pen\", \"blue_pen\", \"green_pen\"]\n",
    "print(pen)\n",
    " \n",
    "pen[0] = \"pink_pen\"\n",
    "pen[-1] = \"orange_pen\"\n",
    "print(pen)"
   ]
  },
  {
   "cell_type": "code",
   "execution_count": 14,
   "id": "d2613544",
   "metadata": {},
   "outputs": [
    {
     "ename": "TypeError",
     "evalue": "'tuple' object does not support item assignment",
     "output_type": "error",
     "traceback": [
      "\u001b[1;31m---------------------------------------------------------------------------\u001b[0m",
      "\u001b[1;31mTypeError\u001b[0m                                 Traceback (most recent call last)",
      "Cell \u001b[1;32mIn[14], line 8\u001b[0m\n\u001b[0;32m      1\u001b[0m \u001b[38;5;66;03m# Immutable\u001b[39;00m\n\u001b[0;32m      2\u001b[0m \u001b[38;5;66;03m# An immutable object can’t be changed after it is created.\u001b[39;00m\n\u001b[0;32m      3\u001b[0m \u001b[38;5;66;03m# Immutable Objects are of in-built datatypes like int, float, bool, string, Unicode, and tuple.  \u001b[39;00m\n\u001b[0;32m      4\u001b[0m \n\u001b[0;32m      5\u001b[0m \u001b[38;5;66;03m# for example =>\u001b[39;00m\n\u001b[0;32m      7\u001b[0m tuple1 \u001b[38;5;241m=\u001b[39m (\u001b[38;5;241m0\u001b[39m, \u001b[38;5;241m1\u001b[39m, \u001b[38;5;241m2\u001b[39m, \u001b[38;5;241m3\u001b[39m)\n\u001b[1;32m----> 8\u001b[0m tuple1[\u001b[38;5;241m0\u001b[39m] \u001b[38;5;241m=\u001b[39m \u001b[38;5;241m4\u001b[39m\n\u001b[0;32m      9\u001b[0m \u001b[38;5;28mprint\u001b[39m(tuple1)\n",
      "\u001b[1;31mTypeError\u001b[0m: 'tuple' object does not support item assignment"
     ]
    }
   ],
   "source": [
    "# Immutable\n",
    "# An immutable object can’t be changed after it is created.\n",
    "# Immutable Objects are of in-built datatypes like int, float, bool, string, Unicode, and tuple.  \n",
    "\n",
    "# for example =>\n",
    "\n",
    "tuple1 = (0, 1, 2, 3)\n",
    "tuple1[0] = 4\n",
    "print(tuple1)"
   ]
  },
  {
   "cell_type": "code",
   "execution_count": null,
   "id": "86f7b59d",
   "metadata": {},
   "outputs": [],
   "source": []
  },
  {
   "cell_type": "code",
   "execution_count": null,
   "id": "03e63b00",
   "metadata": {},
   "outputs": [],
   "source": []
  }
 ],
 "metadata": {
  "kernelspec": {
   "display_name": "Python 3 (ipykernel)",
   "language": "python",
   "name": "python3"
  },
  "language_info": {
   "codemirror_mode": {
    "name": "ipython",
    "version": 3
   },
   "file_extension": ".py",
   "mimetype": "text/x-python",
   "name": "python",
   "nbconvert_exporter": "python",
   "pygments_lexer": "ipython3",
   "version": "3.10.9"
  }
 },
 "nbformat": 4,
 "nbformat_minor": 5
}
