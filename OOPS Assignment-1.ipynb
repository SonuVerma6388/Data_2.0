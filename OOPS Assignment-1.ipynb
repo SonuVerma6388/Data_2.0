{
 "cells": [
  {
   "cell_type": "markdown",
   "id": "7fdca17e",
   "metadata": {},
   "source": [
    "## Q1. Explain Class and Object with respect to Object-Oriented Programming. Give a suitable example."
   ]
  },
  {
   "cell_type": "markdown",
   "id": "987d5d2d",
   "metadata": {},
   "source": [
    "In Object-Oriented Programming (OOP), a class and an object are fundamental concepts that help organize and model data and behavior in a structured manner.\n",
    "\n",
    "Class  : A class is a blueprint or a template that defines the structure and behavior of objects. It encapsulates attributes and          methods that define the characteristics and actions of the objects that will be created based on the class.\n",
    "\n",
    "Object : An object is an instance of a class. It is a real-world entity that represents the data and behavior defined in the              class.\n"
   ]
  },
  {
   "cell_type": "code",
   "execution_count": 1,
   "id": "5cecad95",
   "metadata": {},
   "outputs": [
    {
     "name": "stdout",
     "output_type": "stream",
     "text": [
      "The Blue Toyota Camry is starting.\n",
      "The car is now moving at 50 km/h.\n",
      "The car has come to a stop.\n",
      "The Red Tesla Model S is starting.\n",
      "The car is now moving at 70 km/h.\n",
      "The car has come to a stop.\n"
     ]
    }
   ],
   "source": [
    "# for example\n",
    "class Car:\n",
    "    def __init__(self, brand, model, color):\n",
    "        self.brand = brand\n",
    "        self.model = model\n",
    "        self.color = color\n",
    "        self.speed = 0\n",
    "        \n",
    "    def start(self):\n",
    "        print(f\"The {self.color} {self.brand} {self.model} is starting.\")\n",
    "\n",
    "    def accelerate(self, speed_increase):\n",
    "        self.speed += speed_increase\n",
    "        print(f\"The car is now moving at {self.speed} km/h.\")\n",
    "        \n",
    "\n",
    "    def stop(self):\n",
    "        self.speed = 0\n",
    "        print(\"The car has come to a stop.\")\n",
    "        \n",
    "\n",
    "car1 = Car(\"Toyota\", \"Camry\", \"Blue\")\n",
    "car2 = Car(\"Tesla\", \"Model S\", \"Red\")\n",
    "\n",
    "\n",
    "car1.start()\n",
    "car1.accelerate(50)\n",
    "car1.stop()\n",
    "\n",
    "car2.start()\n",
    "car2.accelerate(70)\n",
    "car2.stop()"
   ]
  },
  {
   "cell_type": "markdown",
   "id": "4eae76ff",
   "metadata": {},
   "source": [
    "## Q2. Name the four pillars of OOPs."
   ]
  },
  {
   "cell_type": "markdown",
   "id": "67895387",
   "metadata": {},
   "source": [
    "The four pillars of Object-Oriented Programming (OOP) are:\n",
    "\n",
    "1. Encapsulation: Encapsulation is the process of bundling data (attributes) and the methods (functions) that operate on that                     data within a single unit called a class.\n",
    "\n",
    "2. Abstraction: Abstraction is the process of simplifying complex systems by representing only the essential features and hiding                 unnecessary details.\n",
    "\n",
    "3. Inheritance: Inheritance allows a class (subclass or derived class) to inherit properties and behaviors from another class.\n",
    "\n",
    "4. Polymorphism: Polymorphism means the ability of objects to take on multiple forms.It is achieved through method overriding                    and method overloading."
   ]
  },
  {
   "cell_type": "markdown",
   "id": "36879381",
   "metadata": {},
   "source": [
    "## Q3. Explain why the __init__() function is used. Give a suitable example."
   ]
  },
  {
   "cell_type": "markdown",
   "id": "b9226032",
   "metadata": {},
   "source": [
    " The  __init__()  function is a special method used in classes. It is also known as a constructor. The primary purpose of the __init__() function is to initialize the attributes of an object when it is created from a class. "
   ]
  },
  {
   "cell_type": "code",
   "execution_count": 2,
   "id": "31064983",
   "metadata": {},
   "outputs": [
    {
     "name": "stdout",
     "output_type": "stream",
     "text": [
      "Hello, my name is John. I am 30 years old, and I am a Software Engineer.\n",
      "Hello, my name is Alice. I am 25 years old, and I am a Doctor.\n"
     ]
    }
   ],
   "source": [
    "class Person:\n",
    "    def __init__(self, name, age, occupation):\n",
    "        self.name = name\n",
    "        self.age = age\n",
    "        self.occupation = occupation\n",
    "\n",
    "    def introduce(self):\n",
    "        print(f\"Hello, my name is {self.name}. I am {self.age} years old, and I am a {self.occupation}.\")\n",
    "\n",
    "# Creating objects of the Person class\n",
    "person1 = Person(\"John\", 30, \"Software Engineer\")\n",
    "person2 = Person(\"Alice\", 25, \"Doctor\")\n",
    "\n",
    "# Using the introduce() method to display the details of each person\n",
    "person1.introduce()\n",
    "person2.introduce()"
   ]
  },
  {
   "cell_type": "markdown",
   "id": "e0a87f87",
   "metadata": {},
   "source": [
    "## Q4. Why self is used in OOPs?"
   ]
  },
  {
   "cell_type": "markdown",
   "id": "ee7f2d62",
   "metadata": {},
   "source": [
    "When you define a method within a class, you need to pass self as the first parameter in the method's definition. This parameter is automatically bound to the instance of the class whenever you call that method on an object of that class."
   ]
  },
  {
   "cell_type": "markdown",
   "id": "b21910b3",
   "metadata": {},
   "source": [
    "## Q5. What is inheritance? Give an example for each type of inheritance.\n"
   ]
  },
  {
   "cell_type": "markdown",
   "id": "1edcd3d2",
   "metadata": {},
   "source": [
    "Inheritance is a fundamental concept in Object-Oriented Programming (OOP) that allows a class (subclass or derived class) to inherit properties and behaviors from another class (superclass or base class).\n",
    "\n",
    "There are four type of Inheritance:\n",
    "1. Single Inheritance : A class can inherit from only one superclass. This means that the subclass derives characteristics from                         only one base class.\n",
    "\n",
    "2. Multiple Inheritance : In multiple inheritance, a class can inherit from more than one superclass. This allows the subclassto                           combine the features and behaviors of multiple base classes\n",
    "3. Multilevel Inheritance : In multilevel inheritance, a class is derived from another class, which in turn is derived from                                 another class. It forms a chain of inheritance.\n",
    "4. Hierarchical Inheritance :In hierarchical inheritance, multiple classes are derived from a single base class."
   ]
  },
  {
   "cell_type": "code",
   "execution_count": 3,
   "id": "c4bde289",
   "metadata": {},
   "outputs": [
    {
     "name": "stdout",
     "output_type": "stream",
     "text": [
      "Buddy is a Dog of breed Labrador. It goes 'Woof!'\n"
     ]
    }
   ],
   "source": [
    "# example of Single Inheritance\n",
    "class Animal:\n",
    "    def __init__(self, species):\n",
    "        self.species = species\n",
    "\n",
    "    def sound(self):\n",
    "        pass  # Placeholder for the sound method\n",
    "\n",
    "class Dog(Animal):\n",
    "    def __init__(self, name, breed):\n",
    "        super().__init__(\"Dog\")\n",
    "        self.name = name\n",
    "        self.breed = breed\n",
    "\n",
    "    def sound(self):\n",
    "        return \"Woof!\"\n",
    "\n",
    "dog = Dog(\"Buddy\", \"Labrador\")\n",
    "\n",
    "print(f\"{dog.name} is a {dog.species} of breed {dog.breed}. It goes '{dog.sound()}'\")"
   ]
  },
  {
   "cell_type": "code",
   "execution_count": 4,
   "id": "f1b9bcda",
   "metadata": {},
   "outputs": [
    {
     "name": "stdout",
     "output_type": "stream",
     "text": [
      "A bat can fly: True, and it can swim: True. It goes 'Screech!'\n"
     ]
    }
   ],
   "source": [
    "# example of Multiple Inheritance\n",
    "\n",
    "class Bird:\n",
    "    def __init__(self):\n",
    "        self.can_fly = True\n",
    "\n",
    "    def sound(self):\n",
    "        pass  # Placeholder for the sound method\n",
    "\n",
    "class Mammal:\n",
    "    def __init__(self):\n",
    "        self.can_swim = True\n",
    "\n",
    "    def sound(self):\n",
    "        pass  # Placeholder for the sound method\n",
    "\n",
    "class Bat(Bird, Mammal):\n",
    "    def __init__(self):\n",
    "        Bird.__init__(self)\n",
    "        Mammal.__init__(self)\n",
    "\n",
    "    def sound(self):\n",
    "        return \"Screech!\"\n",
    "\n",
    "bat = Bat()\n",
    "print(f\"A bat can fly: {bat.can_fly}, and it can swim: {bat.can_swim}. It goes '{bat.sound()}'\")\n"
   ]
  },
  {
   "cell_type": "code",
   "execution_count": 5,
   "id": "57c4e0b3",
   "metadata": {},
   "outputs": [
    {
     "name": "stdout",
     "output_type": "stream",
     "text": [
      "Tesla Model S has a battery capacity of 100 kWh\n"
     ]
    }
   ],
   "source": [
    "# exampl of Multilevel Inheritance\n",
    "class Vehicle:\n",
    "    def __init__(self, brand):\n",
    "        self.brand = brand\n",
    "\n",
    "class Car(Vehicle):\n",
    "    def __init__(self, brand, model):\n",
    "        super().__init__(brand)\n",
    "        self.model = model\n",
    "\n",
    "class ElectricCar(Car):\n",
    "    def __init__(self, brand, model, battery_capacity):\n",
    "        super().__init__(brand, model)\n",
    "        self.battery_capacity = battery_capacity\n",
    "\n",
    "electric_car = ElectricCar(\"Tesla\", \"Model S\", \"100 kWh\")\n",
    "print(f\"{electric_car.brand} {electric_car.model} has a battery capacity of {electric_car.battery_capacity}\")\n"
   ]
  },
  {
   "cell_type": "code",
   "execution_count": 6,
   "id": "12c3dfcc",
   "metadata": {},
   "outputs": [
    {
     "name": "stdout",
     "output_type": "stream",
     "text": [
      "The area of the Circle is 78.5\n",
      "The area of the Square is 16\n"
     ]
    }
   ],
   "source": [
    "# exampl of Hierarchical Inheritance:\n",
    "class Shape:\n",
    "    def __init__(self, name):\n",
    "        self.name = name\n",
    "\n",
    "    def area(self):\n",
    "        pass  \n",
    "\n",
    "class Circle(Shape):\n",
    "    def __init__(self, name, radius):\n",
    "        super().__init__(name)\n",
    "        self.radius = radius\n",
    "\n",
    "    def area(self):\n",
    "        return 3.14 * self.radius * self.radius\n",
    "\n",
    "class Square(Shape):\n",
    "    def __init__(self, name, side_length):\n",
    "        super().__init__(name)\n",
    "        self.side_length = side_length\n",
    "\n",
    "    def area(self):\n",
    "        return self.side_length * self.side_length\n",
    "\n",
    "circle = Circle(\"Circle\", 5)\n",
    "square = Square(\"Square\", 4)\n",
    "\n",
    "print(f\"The area of the {circle.name} is {circle.area()}\")\n",
    "print(f\"The area of the {square.name} is {square.area()}\")"
   ]
  },
  {
   "cell_type": "code",
   "execution_count": null,
   "id": "750ef69b",
   "metadata": {},
   "outputs": [],
   "source": []
  }
 ],
 "metadata": {
  "kernelspec": {
   "display_name": "Python 3 (ipykernel)",
   "language": "python",
   "name": "python3"
  },
  "language_info": {
   "codemirror_mode": {
    "name": "ipython",
    "version": 3
   },
   "file_extension": ".py",
   "mimetype": "text/x-python",
   "name": "python",
   "nbconvert_exporter": "python",
   "pygments_lexer": "ipython3",
   "version": "3.10.9"
  }
 },
 "nbformat": 4,
 "nbformat_minor": 5
}
