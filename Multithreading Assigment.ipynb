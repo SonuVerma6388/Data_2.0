{
 "cells": [
  {
   "cell_type": "markdown",
   "id": "6a30c2c2",
   "metadata": {},
   "source": [
    "# Multithreading Assigment \n"
   ]
  },
  {
   "cell_type": "markdown",
   "id": "4c940c71",
   "metadata": {},
   "source": [
    "## Q1. What is multithreading in python? Why is it used? Name the module used to handle              threads in python"
   ]
  },
  {
   "cell_type": "markdown",
   "id": "cb3f909c",
   "metadata": {},
   "source": [
    "Multithreading in Python refers to a programming technique that allows a program to perform multiple tasks concurrently, or in parallel. It enables you to execute multiple threads within a single process, sharing the same memory space. Each thread can execute a separate part of the program simultaneously, leading to potentially improved performance and responsiveness."
   ]
  },
  {
   "cell_type": "markdown",
   "id": "907c3777",
   "metadata": {},
   "source": [
    "1) Concurrency: Multithreading allows a program to handle multiple tasks concurrently, which can improve performance and                         responsiveness, especially in I/O-bound scenarios.\n",
    "2) Asynchronous Programming: Threading can be used to perform tasks asynchronously, enabling the program to continue executing                                other tasks while waiting for certain operations to complete.\n",
    "3) Responsive GUIs: In graphical user interfaces (GUI), using threads can prevent the GUI from becoming unresponsive while                           performing time-consuming tasks in the background."
   ]
  },
  {
   "cell_type": "markdown",
   "id": "d1346999",
   "metadata": {},
   "source": [
    "The module used to handle threads in Python is called the threading module. It provides classes and functions for working with threads, including creating threads, starting them, synchronizing them, and managing their execution. The threading module is part of the Python standard library, so you don't need to install any additional packages to use it."
   ]
  },
  {
   "cell_type": "markdown",
   "id": "d6896b63",
   "metadata": {},
   "source": [
    "## Q2.Why threading module used? Write the use of the following functions:\n",
    "   ( activeCount, currentThread, enumerate)"
   ]
  },
  {
   "cell_type": "markdown",
   "id": "54aaaa01",
   "metadata": {},
   "source": [
    "The threading module in Python is used to work with threads, allowing you to create, manage, and synchronize threads within a Python program. It provides a higher-level interface for working with threads compared to the lower-level thread module, making it easier to handle multiple threads concurrently."
   ]
  },
  {
   "cell_type": "markdown",
   "id": "afc42a8a",
   "metadata": {},
   "source": [
    "1) activeCount():\n",
    "\n",
    "Use: This function returns the number of currently active Thread objects in the program.\n",
    "\n",
    "2) currentThread():\n",
    "\n",
    "Use: This function returns the current Thread object that represents the thread from which it is called.\n",
    "\n",
    "3) enumerate():\n",
    "\n",
    "Use: This function returns a list of all active Thread objects in the program."
   ]
  },
  {
   "cell_type": "markdown",
   "id": "aa74c4c6",
   "metadata": {},
   "source": [
    "## 3. Explain the following functions:\n",
    "( run(), start(), join(), isAlive())"
   ]
  },
  {
   "cell_type": "markdown",
   "id": "e7693e58",
   "metadata": {},
   "source": [
    "1) run(): \n",
    "The run() method is not a function but a method that represents the entry point of the thread's activity. It is called when you start a thread using the start() method. You can override this method in a custom thread class to define the actions that the thread should perform.\n",
    "By overriding the run() method, you can customize the behavior of your threads and specify what tasks they should execute."
   ]
  },
  {
   "cell_type": "markdown",
   "id": "543faed5",
   "metadata": {},
   "source": [
    "2) start():\n",
    "The start() method is used to start the execution of a thread by creating a new thread of control. It calls the run() method internally to perform the thread's designated tasks.\n",
    "The start() method is crucial for initiating the concurrent execution of threads. It allows multiple threads to run simultaneously and independently."
   ]
  },
  {
   "cell_type": "markdown",
   "id": "0ff97cbd",
   "metadata": {},
   "source": [
    "3) join():\n",
    "The join() method is used to wait for a thread to complete its execution. When a thread is joined, the program will not proceed to the next instructions until the joined thread has finished running.\n",
    "The join() method is useful when you want to ensure that all threads complete their tasks before the program continues, enabling you to synchronize the flow of execution"
   ]
  },
  {
   "cell_type": "markdown",
   "id": "602e871a",
   "metadata": {},
   "source": [
    "## Q4. Write a python program to create two threads. Thread one must print the list of squares and thread two must print the list of cubes.\n"
   ]
  },
  {
   "cell_type": "code",
   "execution_count": 1,
   "id": "4ff634c2",
   "metadata": {},
   "outputs": [
    {
     "name": "stdout",
     "output_type": "stream",
     "text": [
      "Square of 1: 1\n",
      "Square of 2: 4\n",
      "Square of 3: 9\n",
      "Square of 4: 16\n",
      "Square of 5: 25\n",
      "Square of 6: 36\n",
      "Square of 7: 49\n",
      "Square of 8: 64\n",
      "Square of 9: 81\n",
      "Square of 10: 100\n",
      "Cube of 1: 1\n",
      "Cube of 2: 8\n",
      "Cube of 3: 27\n",
      "Cube of 4: 64\n",
      "Cube of 5: 125\n",
      "Cube of 6: 216\n",
      "Cube of 7: 343\n",
      "Cube of 8: 512\n",
      "Cube of 9: 729\n",
      "Cube of 10: 1000\n",
      "Both threads have finished.\n"
     ]
    }
   ],
   "source": [
    "import threading\n",
    "\n",
    "def print_squares():\n",
    "    for i in range(1, 11):\n",
    "        print(f\"Square of {i}: {i**2}\")\n",
    "\n",
    "def print_cubes():\n",
    "    for i in range(1, 11):\n",
    "        print(f\"Cube of {i}: {i**3}\")\n",
    "\n",
    "if __name__ == \"__main__\":\n",
    "    thread1 = threading.Thread(target=print_squares)\n",
    "    thread2 = threading.Thread(target=print_cubes)\n",
    "\n",
    "    thread1.start()\n",
    "    thread2.start()\n",
    "\n",
    "    thread1.join()\n",
    "    thread2.join()\n",
    "\n",
    "    print(\"Both threads have finished.\")"
   ]
  },
  {
   "cell_type": "markdown",
   "id": "38186b9d",
   "metadata": {},
   "source": [
    "## Q5. State advantages and disadvantages of multithreading."
   ]
  },
  {
   "cell_type": "markdown",
   "id": "3e41180a",
   "metadata": {},
   "source": [
    "Advantages:\n",
    "1) Concurrency and Responsiveness: Multithreading allows multiple tasks to run concurrently within the same process.\n",
    "2) Resource Sharing: Threads share the same memory space within a process.\n",
    "3) Efficient I/O Handling: Multithreading is well-suited for I/O-bound tasks, such as reading/writing files or making network                              requests. \n",
    "4) Thread Creation Overhead: Creating a new thread is generally faster and consumes fewer system resources compared to creating                              a new process."
   ]
  },
  {
   "cell_type": "markdown",
   "id": "ef6c2097",
   "metadata": {},
   "source": [
    "Disadvantages:\n",
    "1) Complexity and Synchronization: Multithreading introduces concurrency, which can lead to challenging bugs related to data                                        race conditions, deadlocks, and other synchronization issues.\n",
    "2) Global Interpreter Lock (GIL): In Python, the Global Interpreter Lock allows only one thread to execute Python bytecode                                         at a time. \n",
    "3) Debugging Complexity: Debugging multithreaded programs can be challenging due to the non-deterministic behavior introduced by                          concurrent execution. "
   ]
  },
  {
   "cell_type": "markdown",
   "id": "476012f9",
   "metadata": {},
   "source": [
    "## Q6. Explain deadlocks and race conditions."
   ]
  },
  {
   "cell_type": "markdown",
   "id": "286440aa",
   "metadata": {},
   "source": [
    "Deadlocks:\n",
    "A deadlock is a situation in concurrent programming where two or more threads are unable to proceed because each thread is waiting for a resource that is held by another thread."
   ]
  },
  {
   "cell_type": "markdown",
   "id": "ee0e6fc8",
   "metadata": {},
   "source": [
    "Race Conditions:\n",
    "A race condition is a situation in concurrent programming where the final outcome of a program depends on the relative timing of the execution of threads. "
   ]
  },
  {
   "cell_type": "code",
   "execution_count": null,
   "id": "c79d08be",
   "metadata": {},
   "outputs": [],
   "source": []
  }
 ],
 "metadata": {
  "kernelspec": {
   "display_name": "Python 3 (ipykernel)",
   "language": "python",
   "name": "python3"
  },
  "language_info": {
   "codemirror_mode": {
    "name": "ipython",
    "version": 3
   },
   "file_extension": ".py",
   "mimetype": "text/x-python",
   "name": "python",
   "nbconvert_exporter": "python",
   "pygments_lexer": "ipython3",
   "version": "3.10.9"
  }
 },
 "nbformat": 4,
 "nbformat_minor": 5
}
