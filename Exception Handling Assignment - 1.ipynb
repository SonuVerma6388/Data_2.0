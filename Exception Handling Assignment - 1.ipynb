{
 "cells": [
  {
   "cell_type": "markdown",
   "id": "40df195e",
   "metadata": {},
   "source": [
    "# Exception Handling Assignment - 1"
   ]
  },
  {
   "cell_type": "markdown",
   "id": "49845a83",
   "metadata": {},
   "source": [
    "## Q1. What is an Exception in python ? Write the difference bewteen Excption and Syntax errors."
   ]
  },
  {
   "cell_type": "markdown",
   "id": "b8add99d",
   "metadata": {},
   "source": [
    "An exception is an event that occurs during the execution of a program that disrupts the normal flow of the program's instructions. When an exceptional situation arises, Python raises an exception, which is an object representing the error condition.\n",
    "\n",
    "Difference between Exceptions and Syntax Errors:\n",
    "\n",
    "Exceptions:\n",
    "1. Exceptions occur during the execution of a program when an error condition arises.\n",
    "\n",
    "2. Exceptions occur during runtime when the code is being executed.\n",
    "\n",
    "3. Exceptions can be caught and handled using the try, except, and optionally finally clauses.\n",
    "\n",
    "Syntax Errors:\n",
    "1. Syntax errors occur during the parsing phase of the program, before it starts executing, and they are caused by invalid          Python syntax. \n",
    "\n",
    "2. Syntax errors are detected during the parsing phase of the code before the execution starts.\n",
    "\n",
    "3. Syntax errors cannot be caught and handled; they need to be fixed by correcting the code."
   ]
  },
  {
   "cell_type": "markdown",
   "id": "8bbcd658",
   "metadata": {},
   "source": [
    "## Q2. What happens when an exception is not handled? Explain with an example"
   ]
  },
  {
   "cell_type": "markdown",
   "id": "5b386185",
   "metadata": {},
   "source": [
    "When an exception is not handled in Python, it causes the program to terminate abruptly, and an error message called a \"traceback\" is displayed.The traceback provides information about the exception, including the type of the exception, the file, and line number where the exception occurred, and the call stack that led to the exception."
   ]
  },
  {
   "cell_type": "code",
   "execution_count": 1,
   "id": "ca7c312e",
   "metadata": {},
   "outputs": [
    {
     "ename": "ZeroDivisionError",
     "evalue": "division by zero",
     "output_type": "error",
     "traceback": [
      "\u001b[1;31m---------------------------------------------------------------------------\u001b[0m",
      "\u001b[1;31mZeroDivisionError\u001b[0m                         Traceback (most recent call last)",
      "Cell \u001b[1;32mIn[1], line 8\u001b[0m\n\u001b[0;32m      5\u001b[0m     \u001b[38;5;28mprint\u001b[39m(\u001b[38;5;124m\"\u001b[39m\u001b[38;5;124mResult:\u001b[39m\u001b[38;5;124m\"\u001b[39m, result)\n\u001b[0;32m      7\u001b[0m \u001b[38;5;28;01mtry\u001b[39;00m:\n\u001b[1;32m----> 8\u001b[0m     \u001b[43mdivide_numbers\u001b[49m\u001b[43m(\u001b[49m\u001b[38;5;241;43m10\u001b[39;49m\u001b[43m,\u001b[49m\u001b[43m \u001b[49m\u001b[38;5;241;43m0\u001b[39;49m\u001b[43m)\u001b[49m\n\u001b[0;32m      9\u001b[0m \u001b[38;5;28;01mexcept\u001b[39;00m \u001b[38;5;167;01mValueError\u001b[39;00m:\n\u001b[0;32m     10\u001b[0m     \u001b[38;5;28mprint\u001b[39m(\u001b[38;5;124m\"\u001b[39m\u001b[38;5;124mInvalid input.\u001b[39m\u001b[38;5;124m\"\u001b[39m)\n",
      "Cell \u001b[1;32mIn[1], line 4\u001b[0m, in \u001b[0;36mdivide_numbers\u001b[1;34m(num1, num2)\u001b[0m\n\u001b[0;32m      3\u001b[0m \u001b[38;5;28;01mdef\u001b[39;00m \u001b[38;5;21mdivide_numbers\u001b[39m(num1, num2):\n\u001b[1;32m----> 4\u001b[0m     result \u001b[38;5;241m=\u001b[39m \u001b[43mnum1\u001b[49m\u001b[43m \u001b[49m\u001b[38;5;241;43m/\u001b[39;49m\u001b[43m \u001b[49m\u001b[43mnum2\u001b[49m\n\u001b[0;32m      5\u001b[0m     \u001b[38;5;28mprint\u001b[39m(\u001b[38;5;124m\"\u001b[39m\u001b[38;5;124mResult:\u001b[39m\u001b[38;5;124m\"\u001b[39m, result)\n",
      "\u001b[1;31mZeroDivisionError\u001b[0m: division by zero"
     ]
    }
   ],
   "source": [
    "# for example\n",
    "\n",
    "def divide_numbers(num1, num2):\n",
    "    result = num1 / num2\n",
    "    print(\"Result:\", result)\n",
    "\n",
    "try:\n",
    "    divide_numbers(10, 0)\n",
    "except ValueError:\n",
    "    print(\"Invalid input.\")"
   ]
  },
  {
   "cell_type": "markdown",
   "id": "e299383a",
   "metadata": {},
   "source": [
    "## Q3.Which python statements are used to catch and handle exceptions ? Explain with an                  example."
   ]
  },
  {
   "cell_type": "markdown",
   "id": "84ed7376",
   "metadata": {},
   "source": [
    "The try and except statements are used to catch and handle exceptions. The try block is used to enclose the code that may raise an exception, and the except block is used to define the code that should be executed when an exception of a specific type is encountered."
   ]
  },
  {
   "cell_type": "code",
   "execution_count": 2,
   "id": "28e9d242",
   "metadata": {},
   "outputs": [
    {
     "name": "stdout",
     "output_type": "stream",
     "text": [
      "Result: 5.0\n",
      "Error: Cannot divide by zero.\n",
      "Result: 5.0\n"
     ]
    }
   ],
   "source": [
    "# for example \n",
    "def divide_numbers(num1, num2):\n",
    "    try:\n",
    "        result = num1 / num2\n",
    "        print(\"Result:\", result)\n",
    "    except ZeroDivisionError:\n",
    "        print(\"Error: Cannot divide by zero.\")\n",
    "\n",
    "# Test cases with different inputs\n",
    "divide_numbers(10, 2)  \n",
    "divide_numbers(15, 0)  \n",
    "divide_numbers(20, 4)    "
   ]
  },
  {
   "cell_type": "markdown",
   "id": "f7690f91",
   "metadata": {},
   "source": [
    "## Q4. Explain with an example\n",
    "    a. try and else\n",
    "    b. finally\n",
    "    c. raise"
   ]
  },
  {
   "cell_type": "markdown",
   "id": "8bdef2a9",
   "metadata": {},
   "source": [
    " a) The try, except, and else blocks are used together to handle exceptions more comprehensively. The try block contains the         code that may raise an exception. If an exception is raised, the control transfers to the nearest matching except block.         However, if no exception is raised, the code inside the else block is executed.\n",
    " \n",
    " b) The finally block is used to specify code that will be executed regardless of whether an exception occurs or not.\n",
    "    The finally block is executed just before leaving the try block, either after the successful execution of the try block or       after handling an exception in an associated except block.\n",
    " \n",
    " c) The raise statement is used to manually raise an exception in Python. It allows you to raise a specific exception explicitly     when certain conditions are met."
   ]
  },
  {
   "cell_type": "code",
   "execution_count": 3,
   "id": "55397f0a",
   "metadata": {},
   "outputs": [
    {
     "name": "stdout",
     "output_type": "stream",
     "text": [
      "Enter an integer: 1234\n",
      "The square of 1234 is 1522756.\n"
     ]
    }
   ],
   "source": [
    "# Example of a.\n",
    "def calculate_square():\n",
    "    try:\n",
    "        num = int(input(\"Enter an integer: \"))\n",
    "    except ValueError:\n",
    "        print(\"Invalid input. Please enter a valid integer.\")\n",
    "    else:\n",
    "        square = num * num\n",
    "        print(f\"The square of {num} is {square}.\")\n",
    "\n",
    "calculate_square()"
   ]
  },
  {
   "cell_type": "code",
   "execution_count": 4,
   "id": "253d6193",
   "metadata": {},
   "outputs": [
    {
     "name": "stdout",
     "output_type": "stream",
     "text": [
      "Enter a non-negative integer: 123\n",
      "The square of 123 is 15129.\n"
     ]
    }
   ],
   "source": [
    "# Example of c.\n",
    "def calculate_square(num):\n",
    "    if num < 0:\n",
    "        raise ValueError(\"Input must be a non-negative integer.\")\n",
    "    return num * num\n",
    "\n",
    "try:\n",
    "    input_num = int(input(\"Enter a non-negative integer: \"))\n",
    "    result = calculate_square(input_num)\n",
    "    print(f\"The square of {input_num} is {result}.\")\n",
    "except ValueError as ve:\n",
    "    print(ve)"
   ]
  },
  {
   "cell_type": "markdown",
   "id": "9dbcd0ec",
   "metadata": {},
   "source": [
    "## Q5. What are Custom Exceptions in python? Why do we need Custom Exceptions?Explain            with an example."
   ]
  },
  {
   "cell_type": "markdown",
   "id": "e15d69af",
   "metadata": {},
   "source": [
    "Custom exceptions in Python are user-defined exceptions that allow you to create your own exception classes to represent specific error conditions in your code.\n",
    "\n",
    "We need custom exception for -\n",
    "a. Better Error Handling: This makes it easier to handle different exceptional scenarios with more precise error messages.\n",
    "\n",
    "b. Code Readability:It helps other developers understand the intended purpose of the exception and how to handle it.\n",
    "\n",
    "c. Debugging and Troubleshooting: Custom exceptions help in quickly identifying the cause of an error when it occurs during        program execution."
   ]
  },
  {
   "cell_type": "code",
   "execution_count": 5,
   "id": "e74286cb",
   "metadata": {},
   "outputs": [
    {
     "name": "stdout",
     "output_type": "stream",
     "text": [
      "Enter your new password: 1234\n",
      "Password must be at least 8 characters long.\n"
     ]
    }
   ],
   "source": [
    "class InvalidPasswordError(Exception):\n",
    "    def __init__(self, message=\"Invalid password\"):\n",
    "        super().__init__(message)\n",
    "\n",
    "def set_password(password):\n",
    "    if len(password) < 8:\n",
    "        raise InvalidPasswordError(\"Password must be at least 8 characters long.\")\n",
    "    else:\n",
    "        print(\"Password set successfully.\")\n",
    "\n",
    "# Test cases\n",
    "try:\n",
    "    user_password = input(\"Enter your new password: \")\n",
    "    set_password(user_password)\n",
    "except InvalidPasswordError as ipe:\n",
    "    print(ipe)"
   ]
  },
  {
   "cell_type": "markdown",
   "id": "9db950bc",
   "metadata": {},
   "source": [
    "## Q6. Create a custom exception class. Use this class to handle an exception."
   ]
  },
  {
   "cell_type": "code",
   "execution_count": 6,
   "id": "08b4ffe6",
   "metadata": {},
   "outputs": [
    {
     "name": "stdout",
     "output_type": "stream",
     "text": [
      "Enter a non-negative number: 123456\n",
      "The square root of 123456.0 is 351.36.\n"
     ]
    }
   ],
   "source": [
    "class NegativeNumberError(Exception):\n",
    "    def __init__(self, number):\n",
    "        self.number = number\n",
    "        super().__init__(f\"Negative numbers are not allowed. Received: {self.number}\")\n",
    "\n",
    "def calculate_square_root(number):\n",
    "    if number < 0:\n",
    "        raise NegativeNumberError(number)\n",
    "    return number ** 0.5\n",
    "\n",
    "# Test cases\n",
    "try:\n",
    "    input_number = float(input(\"Enter a non-negative number: \"))\n",
    "    result = calculate_square_root(input_number)\n",
    "    print(f\"The square root of {input_number} is {result:.2f}.\")\n",
    "except ValueError:\n",
    "    print(\"Error: Invalid input. Please enter a valid number.\")\n",
    "except NegativeNumberError as nne:\n",
    "    print(nne)"
   ]
  },
  {
   "cell_type": "code",
   "execution_count": null,
   "id": "9c1a919f",
   "metadata": {},
   "outputs": [],
   "source": []
  }
 ],
 "metadata": {
  "kernelspec": {
   "display_name": "Python 3 (ipykernel)",
   "language": "python",
   "name": "python3"
  },
  "language_info": {
   "codemirror_mode": {
    "name": "ipython",
    "version": 3
   },
   "file_extension": ".py",
   "mimetype": "text/x-python",
   "name": "python",
   "nbconvert_exporter": "python",
   "pygments_lexer": "ipython3",
   "version": "3.10.9"
  }
 },
 "nbformat": 4,
 "nbformat_minor": 5
}
