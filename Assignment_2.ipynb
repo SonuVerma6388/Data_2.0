{
 "cells": [
  {
   "cell_type": "markdown",
   "id": "71045a4a",
   "metadata": {},
   "source": [
    "#  Assignment - 2"
   ]
  },
  {
   "cell_type": "markdown",
   "id": "4e69323d",
   "metadata": {},
   "source": [
    "## Q1. How do you comment code in Python? What are the different types of comments?"
   ]
  },
  {
   "cell_type": "code",
   "execution_count": 1,
   "id": "f2232ae6",
   "metadata": {},
   "outputs": [
    {
     "name": "stdout",
     "output_type": "stream",
     "text": [
      "Comment\n"
     ]
    }
   ],
   "source": [
    "# To do comment in python we can start with \"#\".\n",
    "# for example =>\n",
    "\n",
    "#This is a comment\n",
    "print(\"Comment\")"
   ]
  },
  {
   "cell_type": "code",
   "execution_count": 2,
   "id": "1a60da66",
   "metadata": {},
   "outputs": [
    {
     "name": "stdout",
     "output_type": "stream",
     "text": [
      "Singleline Comment\n",
      "Mulitline Comment\n",
      "Multiplies the value of a and b\n"
     ]
    }
   ],
   "source": [
    "# There are Three  type of comment in python\n",
    "# 1. Single Line \n",
    "# 2. Mulit Line \n",
    "# 3.Docstring Comments\n",
    "\n",
    "# for single line =>\n",
    "# this is single line comment\n",
    "print(\"Singleline Comment\")\n",
    "\n",
    "#for mulit line comment\n",
    "\"\"\" this is a\n",
    " multiline comments\"\"\"\n",
    "print(\"Mulitline Comment\")\n",
    "\n",
    "#for docstring comment\n",
    "#Python docstring is the string literals with triple quotes that are appeared right after the function.\n",
    "def multiply(a, b):\n",
    "    \"\"\"Multiplies the value of a and b\"\"\"\n",
    "    return a*b\n",
    " \n",
    " \n",
    "# Print the docstring of multiply function\n",
    "print(multiply.__doc__)"
   ]
  },
  {
   "cell_type": "markdown",
   "id": "b61c4474",
   "metadata": {},
   "source": [
    "## Q2. What are variables in Python? How do you declare and assign values to variables?"
   ]
  },
  {
   "cell_type": "code",
   "execution_count": 4,
   "id": "4a6f5a31",
   "metadata": {},
   "outputs": [
    {
     "name": "stdout",
     "output_type": "stream",
     "text": [
      "10 Sonu Verma 1.9\n"
     ]
    }
   ],
   "source": [
    "# Variables are like container in programing language , which is used to store the value .\n",
    "\n",
    "# to declare and assign the value in variables =>\n",
    "a = 10 \n",
    "b = \"Sonu Verma\"\n",
    "c = 1.9\n",
    "print(a,b,c)"
   ]
  },
  {
   "cell_type": "markdown",
   "id": "c490d256",
   "metadata": {},
   "source": [
    "## Q3. How do you convert one data type to another in Python?"
   ]
  },
  {
   "cell_type": "code",
   "execution_count": 14,
   "id": "68e67254",
   "metadata": {},
   "outputs": [
    {
     "name": "stdout",
     "output_type": "stream",
     "text": [
      "50\n",
      "<class 'int'>\n",
      "50.0\n",
      "<class 'float'>\n"
     ]
    }
   ],
   "source": [
    "# to convert the data type we can do \"Explicit Type Conversion\"\n",
    "\n",
    "s = '50'\n",
    " \n",
    "# Converting to int\n",
    "n = int(s)\n",
    "print(n)\n",
    "print(type(n))\n",
    " \n",
    "# Converting to float\n",
    "f = float(s)\n",
    "print(f)\n",
    "print(type(f))\n"
   ]
  },
  {
   "cell_type": "markdown",
   "id": "ae43a085",
   "metadata": {},
   "source": [
    "## Q4. How do you write and execute a Python script from the command line?"
   ]
  },
  {
   "cell_type": "code",
   "execution_count": 15,
   "id": "a770704f",
   "metadata": {},
   "outputs": [],
   "source": [
    "# To execute a python script from command line  we need to \n",
    "# opne command line and type the word python followed by the path to your script file\n",
    "# for example =>\n",
    "# python first_script.py\n",
    "# and press enter to excute"
   ]
  },
  {
   "cell_type": "markdown",
   "id": "04029592",
   "metadata": {},
   "source": [
    "## Q5.Given a list my_list = [1, 2, 3, 4, 5], write the code to slice the list and obtain the sub-list            [2, 3]."
   ]
  },
  {
   "cell_type": "code",
   "execution_count": 29,
   "id": "0b9c38b8",
   "metadata": {},
   "outputs": [
    {
     "name": "stdout",
     "output_type": "stream",
     "text": [
      "[2, 3]\n"
     ]
    }
   ],
   "source": [
    "# to slice the list \n",
    "my_list = [1,2,3,4,5]\n",
    "print(my_list[1:3])"
   ]
  },
  {
   "cell_type": "markdown",
   "id": "d6422bd5",
   "metadata": {},
   "source": [
    "## Q6. What is a complex number in mathematics, and how is it represented in Python?"
   ]
  },
  {
   "cell_type": "code",
   "execution_count": 30,
   "id": "4a09c205",
   "metadata": {},
   "outputs": [
    {
     "name": "stdout",
     "output_type": "stream",
     "text": [
      "<class 'complex'>\n"
     ]
    }
   ],
   "source": [
    "# Complex numbers are the numbers that are expressed in the form of a+ib where, \n",
    "# a,b are real numbers and 'i' is an imaginary number called “iota”\n",
    "\n",
    "# to express in python \n",
    "\n",
    "a =(2+3j)\n",
    "print(type(a))"
   ]
  },
  {
   "cell_type": "markdown",
   "id": "73bab3d8",
   "metadata": {},
   "source": [
    "## Q7. What is the correct way to declare a variable named age and assign the value 25 to it?"
   ]
  },
  {
   "cell_type": "code",
   "execution_count": 32,
   "id": "faa0f6b7",
   "metadata": {},
   "outputs": [
    {
     "name": "stdout",
     "output_type": "stream",
     "text": [
      "The age is 25\n"
     ]
    }
   ],
   "source": [
    "# the correct waye to declare a variable is \n",
    "\n",
    "age = int(25)\n",
    "print(\"The age is\" ,age)"
   ]
  },
  {
   "cell_type": "markdown",
   "id": "8b2dc85b",
   "metadata": {},
   "source": [
    "## Q8. Declare a variable named price and assign the value 9.99 to it. What data type does this variable belong to?\n",
    "\n"
   ]
  },
  {
   "cell_type": "code",
   "execution_count": 33,
   "id": "c89372c3",
   "metadata": {},
   "outputs": [
    {
     "name": "stdout",
     "output_type": "stream",
     "text": [
      "<class 'float'>\n"
     ]
    }
   ],
   "source": [
    "# the type of the variable is \"float\"\n",
    "\n",
    "# for example =>\n",
    " \n",
    "price  = 9.99\n",
    "print(type(price))"
   ]
  },
  {
   "cell_type": "markdown",
   "id": "47693e87",
   "metadata": {},
   "source": [
    "## Q9. Create a variable named name and assign your full name to it as a string. How would you print the value of this variable?\n"
   ]
  },
  {
   "cell_type": "code",
   "execution_count": 34,
   "id": "ac12734d",
   "metadata": {},
   "outputs": [
    {
     "name": "stdout",
     "output_type": "stream",
     "text": [
      "Sonu Verma\n"
     ]
    }
   ],
   "source": [
    "name = \"Sonu Verma\"\n",
    "print(name)"
   ]
  },
  {
   "cell_type": "markdown",
   "id": "040d1fa0",
   "metadata": {},
   "source": [
    "## Q10. Given the string \"Hello, World!\", extract the substring \"World\".\n"
   ]
  },
  {
   "cell_type": "code",
   "execution_count": 43,
   "id": "954d81ee",
   "metadata": {},
   "outputs": [
    {
     "name": "stdout",
     "output_type": "stream",
     "text": [
      "World!\n",
      "World!\n"
     ]
    }
   ],
   "source": [
    "string = \"Hello, World!\"\n",
    "    \n",
    "print(string[7:])\n",
    "\n",
    "# or\n",
    "\n",
    "print(string[-6:])"
   ]
  },
  {
   "cell_type": "markdown",
   "id": "89bfadf7",
   "metadata": {},
   "source": [
    "## Q11. Create a variable named \"is_student\" and assign it a boolean value indicating whether you are currently a student or not.\n"
   ]
  },
  {
   "cell_type": "code",
   "execution_count": 45,
   "id": "f17d751c",
   "metadata": {},
   "outputs": [
    {
     "name": "stdout",
     "output_type": "stream",
     "text": [
      "True\n"
     ]
    }
   ],
   "source": [
    "is_student = True\n",
    "print(is_student)"
   ]
  },
  {
   "cell_type": "code",
   "execution_count": null,
   "id": "5c2d3f3c",
   "metadata": {},
   "outputs": [],
   "source": []
  }
 ],
 "metadata": {
  "kernelspec": {
   "display_name": "Python 3 (ipykernel)",
   "language": "python",
   "name": "python3"
  },
  "language_info": {
   "codemirror_mode": {
    "name": "ipython",
    "version": 3
   },
   "file_extension": ".py",
   "mimetype": "text/x-python",
   "name": "python",
   "nbconvert_exporter": "python",
   "pygments_lexer": "ipython3",
   "version": "3.10.9"
  }
 },
 "nbformat": 4,
 "nbformat_minor": 5
}
