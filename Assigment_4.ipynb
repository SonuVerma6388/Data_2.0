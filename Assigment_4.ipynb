{
 "cells": [
  {
   "cell_type": "markdown",
   "id": "5800c5d5",
   "metadata": {},
   "source": [
    "# Assignment - 4"
   ]
  },
  {
   "cell_type": "markdown",
   "id": "a495566b",
   "metadata": {},
   "source": [
    "## Q1. Which keyword is used to create a function? Create a function to return a list of odd numbers in the range of 1 to 25.\n"
   ]
  },
  {
   "cell_type": "markdown",
   "id": "961aff26",
   "metadata": {},
   "source": [
    "#### def keyword is used to create a function . It is the reserved keyword."
   ]
  },
  {
   "cell_type": "code",
   "execution_count": 1,
   "id": "d9e30376",
   "metadata": {},
   "outputs": [],
   "source": [
    "l1 = []\n",
    "def odd_numbers(n):\n",
    "    for n in range(n+1):\n",
    "        if n % 2 != 0:\n",
    "            l1.append(n)\n",
    "             "
   ]
  },
  {
   "cell_type": "code",
   "execution_count": 2,
   "id": "a3c0a5c2",
   "metadata": {},
   "outputs": [
    {
     "name": "stdout",
     "output_type": "stream",
     "text": [
      "None\n"
     ]
    },
    {
     "data": {
      "text/plain": [
       "[1, 3, 5, 7, 9, 11, 13, 15, 17, 19, 21, 23, 25]"
      ]
     },
     "execution_count": 2,
     "metadata": {},
     "output_type": "execute_result"
    }
   ],
   "source": [
    "print(odd_numbers(25))\n",
    "l1"
   ]
  },
  {
   "cell_type": "markdown",
   "id": "6338a45d",
   "metadata": {},
   "source": [
    "## Q2. Why *args and **kwargs is used in some functions? Create a function each for *args and **kwargs to demonstrate their use.\n"
   ]
  },
  {
   "cell_type": "markdown",
   "id": "421f9277",
   "metadata": {},
   "source": [
    "The *args and **kwargs parameters are used in Python functions to handle a variable number of arguments.\n",
    "Using *args and **kwargs provides flexibility when designing functions that need to handle a variable number of arguments without explicitly specifying them.\n",
    "\n",
    "### *args\n",
    "The *args parameter allows a function to accept any number of positional arguments.\n",
    "\n",
    "### **kwargs\n",
    "The **kwargs parameter allows a function to accept any number of keyword arguments, which are typically passed as key-value pairs. "
   ]
  },
  {
   "cell_type": "code",
   "execution_count": 3,
   "id": "b58fb7c8",
   "metadata": {},
   "outputs": [
    {
     "name": "stdout",
     "output_type": "stream",
     "text": [
      "Sonu Verma\n"
     ]
    }
   ],
   "source": [
    "def concatenate_strings(*args):\n",
    "    result = \"\"\n",
    "    for arg in args:\n",
    "        result += arg\n",
    "    return result\n",
    "\n",
    "print(concatenate_strings('Sonu', ' ', 'Verma'))"
   ]
  },
  {
   "cell_type": "code",
   "execution_count": 4,
   "id": "042972ff",
   "metadata": {},
   "outputs": [
    {
     "name": "stdout",
     "output_type": "stream",
     "text": [
      "Name: Sonu Verma\n",
      "Age: 25\n",
      "Country: India\n"
     ]
    }
   ],
   "source": [
    "def student_info(**kwargs):\n",
    "    for key, value in kwargs.items():\n",
    "        print(key + ':', value)\n",
    "\n",
    "student_info(Name='Sonu Verma', Age=25, Country='India')"
   ]
  },
  {
   "cell_type": "markdown",
   "id": "54c8d0cf",
   "metadata": {},
   "source": [
    "## Q3. What is an iterator in python? Name the method used to initialise the iterator object and the method used for iteration. Use these methods to print the first five elements of the given list [2, 4, 6, 8, 10, 12, 14,16, 18, 20]."
   ]
  },
  {
   "cell_type": "markdown",
   "id": "4789f025",
   "metadata": {},
   "source": [
    "### Iterator\n",
    "An iterator  is an object that produces the next element in a sequence when the next() function is called on it.\n",
    "Iterators are used to represent a stream of data and allow iteration over elements of a collection or sequence."
   ]
  },
  {
   "cell_type": "markdown",
   "id": "1b9d26c2",
   "metadata": {},
   "source": [
    "To initialize the iterator object, you need to use the iter() function,\n",
    "which takes an iterable as an argument and returns an iterator object.\n",
    "\n",
    "To iterate over the elements, you can use the next() function to access each element of the iterator sequentially."
   ]
  },
  {
   "cell_type": "code",
   "execution_count": 5,
   "id": "09d74935",
   "metadata": {},
   "outputs": [
    {
     "name": "stdout",
     "output_type": "stream",
     "text": [
      "2\n",
      "4\n",
      "6\n",
      "8\n",
      "10\n"
     ]
    }
   ],
   "source": [
    "my_list = [2, 4, 6, 8, 10, 12, 14, 16, 18, 20]\n",
    "my_iterator = iter(my_list)  \n",
    "\n",
    "for _ in range(5):  \n",
    "    element = next(my_iterator)  \n",
    "    print(element)"
   ]
  },
  {
   "cell_type": "markdown",
   "id": "81cb8f4e",
   "metadata": {},
   "source": [
    "## Q4. What is a generator function in python? Why yield keyword is used? Give an example of a generator function.\n"
   ]
  },
  {
   "cell_type": "markdown",
   "id": "e6ca0181",
   "metadata": {},
   "source": [
    "### Generator Function\n",
    "A generator function is a special type of function that generates a sequence of values using \n",
    "the yield keyword instead of returning a single value with the return keyword. "
   ]
  },
  {
   "cell_type": "markdown",
   "id": "1868af97",
   "metadata": {},
   "source": [
    "### yield Keyword\n",
    "\n",
    "The yield keyword in Python is used in generator functions to define a point at which the function should pause its execution and yield a value to the caller.It allows the generator function to produce a sequence of values incrementally, one at a time, without fully terminating the function's execution."
   ]
  },
  {
   "cell_type": "code",
   "execution_count": 6,
   "id": "d8164c96",
   "metadata": {},
   "outputs": [
    {
     "name": "stdout",
     "output_type": "stream",
     "text": [
      "0\n",
      "1\n",
      "1\n",
      "2\n",
      "3\n",
      "5\n",
      "8\n",
      "13\n",
      "21\n",
      "34\n"
     ]
    }
   ],
   "source": [
    "def fib_number():\n",
    "    a, b = 0, 1\n",
    "    while True:\n",
    "        yield a\n",
    "        a, b = b, a + b\n",
    "\n",
    "fib_gen = fib_number()\n",
    "\n",
    "for _ in range(10):\n",
    "    print(next(fib_gen))"
   ]
  },
  {
   "cell_type": "markdown",
   "id": "7c22a7e2",
   "metadata": {},
   "source": [
    "## Q5. Create a generator function for prime numbers less than 1000. Use the next() method to print the first 20 prime numbers.\n"
   ]
  },
  {
   "cell_type": "code",
   "execution_count": 7,
   "id": "5fdadb8c",
   "metadata": {},
   "outputs": [
    {
     "name": "stdout",
     "output_type": "stream",
     "text": [
      "2\n",
      "3\n",
      "5\n",
      "7\n",
      "11\n",
      "13\n",
      "17\n",
      "19\n",
      "23\n",
      "29\n",
      "31\n",
      "37\n",
      "41\n",
      "43\n",
      "47\n",
      "53\n",
      "59\n",
      "61\n",
      "67\n",
      "71\n"
     ]
    }
   ],
   "source": [
    "def prime_generator():\n",
    "    primes = []\n",
    "    num = 2\n",
    "    while num < 1000:\n",
    "        is_prime = True\n",
    "        for i in primes:\n",
    "            if num % i == 0:\n",
    "                is_prime = False\n",
    "                break\n",
    "        if is_prime:\n",
    "            primes.append(num)\n",
    "            yield num\n",
    "        num += 1\n",
    "        \n",
    "        \n",
    "prime_gen = prime_generator()\n",
    "\n",
    "for _ in range(20):\n",
    "    print(next(prime_gen))"
   ]
  },
  {
   "cell_type": "markdown",
   "id": "de27a727",
   "metadata": {},
   "source": [
    "## Q6. Write a python program to print the first 10 Fibonacci numbers using a while loop."
   ]
  },
  {
   "cell_type": "code",
   "execution_count": 8,
   "id": "e6c7cec6",
   "metadata": {},
   "outputs": [
    {
     "name": "stdout",
     "output_type": "stream",
     "text": [
      "0\n",
      "1\n",
      "1\n",
      "2\n",
      "3\n",
      "5\n",
      "8\n",
      "13\n",
      "21\n",
      "34\n"
     ]
    }
   ],
   "source": [
    "fib_1 = 0\n",
    "fib_2 = 1\n",
    "\n",
    "count = 0\n",
    "\n",
    "while count<10:\n",
    "    print(fib_1)\n",
    "    fib_next = fib_1 + fib_2\n",
    "    \n",
    "    fib_1 = fib_2\n",
    "    fib_2 = fib_next\n",
    "    \n",
    "    count += 1"
   ]
  },
  {
   "cell_type": "markdown",
   "id": "fee21e7f",
   "metadata": {},
   "source": [
    "## Q7. Write a List Comprehension to iterate through the given string: ‘pwskills’.Expected output:   ['p', 'w', 's', 'k', 'i', 'l', 'l', 's']\n"
   ]
  },
  {
   "cell_type": "code",
   "execution_count": 9,
   "id": "a3f57f8d",
   "metadata": {},
   "outputs": [
    {
     "name": "stdout",
     "output_type": "stream",
     "text": [
      "['p', 'w', 's', 'k', 'i', 'l', 'l', 's']\n"
     ]
    }
   ],
   "source": [
    "string = 'pwskills'\n",
    "result = [char for char in string]\n",
    "print(result)\n"
   ]
  },
  {
   "cell_type": "markdown",
   "id": "e6a390be",
   "metadata": {},
   "source": [
    "## Q8. Write a python program to check whether a given number is Palindrome or not using a while loop."
   ]
  },
  {
   "cell_type": "code",
   "execution_count": 10,
   "id": "8fac85e6",
   "metadata": {},
   "outputs": [
    {
     "name": "stdout",
     "output_type": "stream",
     "text": [
      "Enter a number: 1234321\n",
      "1234321 is a palindrome\n"
     ]
    }
   ],
   "source": [
    "def is_palindrome(num):\n",
    "    original_num = num\n",
    "    reverse_num = 0\n",
    "    while num > 0:\n",
    "        reverse_num = reverse_num * 10 + num % 10\n",
    "        num //= 10\n",
    "\n",
    "    if original_num == reverse_num:\n",
    "        return True\n",
    "    else:\n",
    "        return False\n",
    "\n",
    "number = int(input(\"Enter a number: \"))\n",
    "\n",
    "if is_palindrome(number):\n",
    "    print(f\"{number} is a palindrome\")\n",
    "else:\n",
    "    print(f\"{number} is not a palindrome\")\n"
   ]
  },
  {
   "cell_type": "markdown",
   "id": "21e80bfe",
   "metadata": {},
   "source": [
    "## Q9. Write a code to print odd numbers from 1 to 100 using list comprehension.\n",
    "\n"
   ]
  },
  {
   "cell_type": "code",
   "execution_count": 11,
   "id": "bf454864",
   "metadata": {},
   "outputs": [],
   "source": [
    "list = []\n",
    "list1 = []\n",
    "for i in range(100+1):\n",
    "    list.append(i)"
   ]
  },
  {
   "cell_type": "code",
   "execution_count": 12,
   "id": "4dddd485",
   "metadata": {},
   "outputs": [],
   "source": [
    "for num in list:\n",
    "    if num % 2 != 0:\n",
    "        list1.append(num)"
   ]
  },
  {
   "cell_type": "code",
   "execution_count": 13,
   "id": "6977a6e1",
   "metadata": {},
   "outputs": [
    {
     "name": "stdout",
     "output_type": "stream",
     "text": [
      "[1, 3, 5, 7, 9, 11, 13, 15, 17, 19, 21, 23, 25, 27, 29, 31, 33, 35, 37, 39, 41, 43, 45, 47, 49, 51, 53, 55, 57, 59, 61, 63, 65, 67, 69, 71, 73, 75, 77, 79, 81, 83, 85, 87, 89, 91, 93, 95, 97, 99]\n"
     ]
    }
   ],
   "source": [
    "print(list1)"
   ]
  },
  {
   "cell_type": "markdown",
   "id": "a7a1d6b6",
   "metadata": {},
   "source": [
    "### In other way"
   ]
  },
  {
   "cell_type": "code",
   "execution_count": 14,
   "id": "5dcfe73c",
   "metadata": {},
   "outputs": [
    {
     "name": "stdout",
     "output_type": "stream",
     "text": [
      "[1, 3, 5, 7, 9, 11, 13, 15, 17, 19, 21, 23, 25, 27, 29, 31, 33, 35, 37, 39, 41, 43, 45, 47, 49, 51, 53, 55, 57, 59, 61, 63, 65, 67, 69, 71, 73, 75, 77, 79, 81, 83, 85, 87, 89, 91, 93, 95, 97, 99]\n"
     ]
    }
   ],
   "source": [
    "odd_numbers = [num for num in range(1, 101) if num % 2 != 0]\n",
    "print(odd_numbers)\n"
   ]
  },
  {
   "cell_type": "code",
   "execution_count": null,
   "id": "6cadce69",
   "metadata": {},
   "outputs": [],
   "source": []
  }
 ],
 "metadata": {
  "kernelspec": {
   "display_name": "Python 3 (ipykernel)",
   "language": "python",
   "name": "python3"
  },
  "language_info": {
   "codemirror_mode": {
    "name": "ipython",
    "version": 3
   },
   "file_extension": ".py",
   "mimetype": "text/x-python",
   "name": "python",
   "nbconvert_exporter": "python",
   "pygments_lexer": "ipython3",
   "version": "3.10.9"
  }
 },
 "nbformat": 4,
 "nbformat_minor": 5
}
