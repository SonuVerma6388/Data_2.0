{
 "cells": [
  {
   "cell_type": "markdown",
   "id": "c65b7e53",
   "metadata": {},
   "source": [
    "## Q1. What is Abstraction in OOps? Explain with an example."
   ]
  },
  {
   "cell_type": "markdown",
   "id": "487f8252",
   "metadata": {},
   "source": [
    "Abstraction is one of the four fundamental pillars of Object-Oriented Programming (OOP). It is the process of simplifying complex systems by representing only the essential features and hiding unnecessary details.\n",
    "Abstraction is achieved by defining abstract classes and interfaces that provide a blueprint for the behavior of related classes."
   ]
  },
  {
   "cell_type": "code",
   "execution_count": 1,
   "id": "3146a8a0",
   "metadata": {},
   "outputs": [
    {
     "name": "stdout",
     "output_type": "stream",
     "text": [
      "The area of the circle with radius 5 is 78.5\n"
     ]
    }
   ],
   "source": [
    "# for example\n",
    "from abc import ABC, abstractmethod\n",
    "\n",
    "class Shape(ABC):\n",
    "    @abstractmethod\n",
    "    def area(self):\n",
    "        pass\n",
    "\n",
    "class Circle(Shape):\n",
    "    def __init__(self, radius):\n",
    "        self.radius = radius\n",
    "\n",
    "    def area(self):\n",
    "        return 3.14 * self.radius * self.radius\n",
    "\n",
    "\n",
    "# Creating objects of the Circle and Square classes\n",
    "circle = Circle(5)\n",
    "\n",
    "# Calculating and displaying the areas of the shapes\n",
    "print(f\"The area of the circle with radius {circle.radius} is {circle.area()}\")\n"
   ]
  },
  {
   "cell_type": "markdown",
   "id": "c65c0a4f",
   "metadata": {},
   "source": [
    "## Q2. Differentiate between Abstraction and Encapsulation. Explain with an example."
   ]
  },
  {
   "cell_type": "markdown",
   "id": "62f3702f",
   "metadata": {},
   "source": [
    "Abstraction:\n",
    "\n",
    "1. Abstraction is the process of simplifying complex systems by representing only the essential features and hiding unnecessary details.\n",
    "2. It focuses on \"what\" an object does, rather than \"how\" it does it.\n",
    "3. Abstraction is achieved by using abstract classes and interfaces that define the structure and behavior of related classes without providing specific implementation details.\n",
    "4. Abstract classes cannot be instantiated directly; they act as blueprints for their concrete subclasses.\n",
    "5. The abstractmethod decorator in Python allows you to declare abstract methods within an abstract class.\n",
    "\n",
    "Encapsulation:\n",
    "\n",
    "1. Encapsulation is the bundling of data (attributes) and methods (functions) that operate on that data within a single unit called a class.\n",
    "2. It focuses on hiding the internal implementation details of a class and providing a public interface to interact with the class.\n",
    "3. Encapsulation ensures that the data is accessed and modified only through the methods defined in the class, allowing the class to control access to its internal state.\n",
    "4. It helps achieve data hiding and protects the internal state of an object from being directly accessed or modified by external code."
   ]
  },
  {
   "cell_type": "code",
   "execution_count": 2,
   "id": "854cc429",
   "metadata": {},
   "outputs": [
    {
     "name": "stdout",
     "output_type": "stream",
     "text": [
      "Tesla Model S\n",
      "Toyota Corolla\n",
      "Starting the electric car.\n",
      "Stopping the electric car.\n",
      "Starting the petrol car.\n",
      "Stopping the petrol car.\n"
     ]
    }
   ],
   "source": [
    "# for example\n",
    "from abc import ABC, abstractmethod\n",
    "\n",
    "class Car(ABC):\n",
    "    def __init__(self, brand, model):\n",
    "        self.brand = brand\n",
    "        self.model = model\n",
    "\n",
    "    @abstractmethod\n",
    "    def start(self):\n",
    "        pass\n",
    "\n",
    "    @abstractmethod\n",
    "    def stop(self):\n",
    "        pass\n",
    "\n",
    "    def get_brand_model(self):\n",
    "        return f\"{self.brand} {self.model}\"\n",
    "\n",
    "class ElectricCar(Car):\n",
    "    def __init__(self, brand, model, battery_capacity):\n",
    "        super().__init__(brand, model)\n",
    "        self.battery_capacity = battery_capacity\n",
    "\n",
    "    def start(self):\n",
    "        print(\"Starting the electric car.\")\n",
    "\n",
    "    def stop(self):\n",
    "        print(\"Stopping the electric car.\")\n",
    "\n",
    "class PetrolCar(Car):\n",
    "    def __init__(self, brand, model, fuel_type):\n",
    "        super().__init__(brand, model)\n",
    "        self.fuel_type = fuel_type\n",
    "\n",
    "    def start(self):\n",
    "        print(\"Starting the petrol car.\")\n",
    "\n",
    "    def stop(self):\n",
    "        print(\"Stopping the petrol car.\")\n",
    "\n",
    "# Creating objects of ElectricCar and PetrolCar classes\n",
    "electric_car = ElectricCar(\"Tesla\", \"Model S\", \"100 kWh\")\n",
    "petrol_car = PetrolCar(\"Toyota\", \"Corolla\", \"Petrol\")\n",
    "\n",
    "# Accessing the public interface (encapsulation)\n",
    "print(electric_car.get_brand_model())  # Output: Tesla Model S\n",
    "print(petrol_car.get_brand_model())    # Output: Toyota Corolla\n",
    "\n",
    "# Performing operations on the cars (abstraction)\n",
    "electric_car.start()\n",
    "electric_car.stop()\n",
    "\n",
    "petrol_car.start()\n",
    "petrol_car.stop()"
   ]
  },
  {
   "cell_type": "markdown",
   "id": "8c10510a",
   "metadata": {},
   "source": [
    "## Q3. What is abc module in python? Why is it used?"
   ]
  },
  {
   "cell_type": "markdown",
   "id": "05b58641",
   "metadata": {},
   "source": [
    "The abc module in Python stands for \"Abstract Base Classes.\" It provides tools for working with abstract classes and interfaces, which are classes that cannot be instantiated directly but serve as blueprints for other classes.\n",
    "\n",
    "The primary purpose of the abc module is to support and promote abstraction in Object-Oriented Programming.It allows you to create abstract classes and define abstract methods, which must be implemented by the concrete subclasses. This helps in designing a more organized class hierarchy and encourages code reusability"
   ]
  },
  {
   "cell_type": "markdown",
   "id": "f44f436d",
   "metadata": {},
   "source": [
    "## Q4. How can we achieve data abstraction?"
   ]
  },
  {
   "cell_type": "markdown",
   "id": "e0897c69",
   "metadata": {},
   "source": [
    "Data abstraction in OOP is achieved through the use of abstract classes and access modifiers.\n",
    "Data abstraction allows you to focus on what an object does rather than how it does it.\n",
    "\n",
    "Here are some ways to achieve data abstraction in Python:\n",
    "\n",
    "1.Abstract Classes: Use abstract classes to define the structure and behavior of related classes without providing specific                         implementation details.\n",
    "\n",
    "2.Access Modifiers: Use access modifiers like private and protected to control the visibility of attributes and methods within a                     class.\n",
    "\n",
    "3.Property Decorators: Use property decorators to encapsulate attribute access and modification.\n",
    "\n",
    "4.Interface Design: Design class interfaces to provide a clean and simple public interface for interacting with the class."
   ]
  },
  {
   "cell_type": "markdown",
   "id": "86380d15",
   "metadata": {},
   "source": [
    "## Q5. Can we create an instance of an abstract class? Explain your answer."
   ]
  },
  {
   "cell_type": "markdown",
   "id": "90b759a6",
   "metadata": {},
   "source": [
    "No, we cannot create an instance of an abstract class in Python. An abstract class serves as a blueprint for its concrete subclasses and is not meant to be instantiated directly. It is designed to define the structure and behavior that must be implemented by its subclasses."
   ]
  },
  {
   "cell_type": "code",
   "execution_count": null,
   "id": "f430eb2c",
   "metadata": {},
   "outputs": [],
   "source": []
  }
 ],
 "metadata": {
  "kernelspec": {
   "display_name": "Python 3 (ipykernel)",
   "language": "python",
   "name": "python3"
  },
  "language_info": {
   "codemirror_mode": {
    "name": "ipython",
    "version": 3
   },
   "file_extension": ".py",
   "mimetype": "text/x-python",
   "name": "python",
   "nbconvert_exporter": "python",
   "pygments_lexer": "ipython3",
   "version": "3.10.9"
  }
 },
 "nbformat": 4,
 "nbformat_minor": 5
}
